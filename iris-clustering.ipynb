{
 "cells": [
  {
   "cell_type": "markdown",
   "id": "e0768f75",
   "metadata": {},
   "source": [
    "## Importing The Dependencies"
   ]
  },
  {
   "cell_type": "code",
   "execution_count": null,
   "id": "ad3b8b66",
   "metadata": {},
   "outputs": [],
   "source": [
    "import numpy as np\n",
    "import pandas as pd\n",
    "import matplotlib.pyplot as plt\n",
    "import plotly.express as px\n",
    "import plotly.graph_objects as go\n",
    "import seaborn as sns"
   ]
  },
  {
   "cell_type": "markdown",
   "id": "e29d89aa",
   "metadata": {},
   "source": [
    "# Loading the data"
   ]
  },
  {
   "cell_type": "code",
   "execution_count": null,
   "id": "87012b04",
   "metadata": {},
   "outputs": [],
   "source": [
    "iris = pd.read_csv('iris.csv')\n",
    "iris.drop('Id',inplace=True,axis=1)"
   ]
  },
  {
   "cell_type": "code",
   "execution_count": null,
   "id": "75a533bf",
   "metadata": {},
   "outputs": [],
   "source": [
    "iris.head()"
   ]
  },
  {
   "cell_type": "code",
   "execution_count": null,
   "id": "b0f07ebe",
   "metadata": {},
   "outputs": [],
   "source": [
    "X  = iris.iloc[:,:-1]\n",
    "y = iris.iloc[:,-1]"
   ]
  },
  {
   "cell_type": "code",
   "execution_count": null,
   "id": "f8e5d570",
   "metadata": {},
   "outputs": [],
   "source": [
    "iris.head().style.background_gradient(cmap = sns.cubehelix_palette(as_cmap=True))"
   ]
  },
  {
   "cell_type": "markdown",
   "id": "d4774e5e",
   "metadata": {},
   "source": [
    "# EDA"
   ]
  },
  {
   "cell_type": "code",
   "execution_count": null,
   "id": "3d51a86a",
   "metadata": {},
   "outputs": [],
   "source": [
    "fig = px.pie(iris, 'Species', color_discrete_sequence = ['#491D8B','#7D3AC1','#EB548C'], title = 'data_distribution', template = 'plotly')\n",
    "fig.show()"
   ]
  },
  {
   "cell_type": "markdown",
   "id": "2c12e013",
   "metadata": {},
   "source": [
    "# Sepal Length"
   ]
  },
  {
   "cell_type": "code",
   "execution_count": null,
   "id": "a3f7db0b",
   "metadata": {},
   "outputs": [],
   "source": [
    "fig = px.box(data_frame = iris, x = 'Species', y  = 'SepalLengthCm', color = 'Species', color_discrete_sequence=['#29066B','#7D3AC1','#EB548C'], orientation = 'v')\n",
    "fig.show()"
   ]
  },
  {
   "cell_type": "code",
   "execution_count": null,
   "id": "f5ec0583",
   "metadata": {},
   "outputs": [],
   "source": [
    "iris.Species.value_counts()"
   ]
  },
  {
   "cell_type": "code",
   "execution_count": null,
   "id": "03805f3f",
   "metadata": {},
   "outputs": [],
   "source": [
    "fig = px.histogram(data_frame = iris, x = 'SepalLengthCm', color = 'Species',color_discrete_sequence = ['#491D8B','#7D3AC1','#EB548C'], nbins = 50 )\n",
    "fig.show()"
   ]
  },
  {
   "cell_type": "markdown",
   "id": "ffb80b23",
   "metadata": {},
   "source": [
    "# Sepal Width"
   ]
  },
  {
   "cell_type": "code",
   "execution_count": null,
   "id": "a190d621",
   "metadata": {},
   "outputs": [],
   "source": [
    "fig = px.box(iris, x = 'SepalWidthCm', color = 'Species', color_discrete_sequence = ['#491D8B','#7D3AC1','#EB548C'], orientation= 'v')\n",
    "fig.show()"
   ]
  },
  {
   "cell_type": "code",
   "execution_count": null,
   "id": "bff18dc2",
   "metadata": {},
   "outputs": [],
   "source": [
    "fig = px.histogram(data_frame = iris, x = 'SepalWidthCm', color = 'Species', color_discrete_sequence = ['#491D8B','#7D3AC1','#EB548C'], nbins = 50)\n",
    "fig.show()"
   ]
  },
  {
   "cell_type": "markdown",
   "id": "ace0ef48",
   "metadata": {},
   "source": [
    "# Petal Length"
   ]
  },
  {
   "cell_type": "code",
   "execution_count": null,
   "id": "ce3857e2",
   "metadata": {},
   "outputs": [],
   "source": [
    "fig = px.box(iris, x = 'Species', y = 'PetalLengthCm', color = 'Species', color_discrete_sequence = ['#491D8B','#7D3AC1','#EB548C'], orientation= 'v')\n",
    "fig.show()"
   ]
  },
  {
   "cell_type": "code",
   "execution_count": null,
   "id": "99a38743",
   "metadata": {},
   "outputs": [],
   "source": [
    "fig = px.histogram(iris, x = 'PetalLengthCm', color = 'Species', color_discrete_sequence = ['#491D8B','#7D3AC1','#EB548C'], nbins= 50)\n",
    "fig.show()"
   ]
  },
  {
   "cell_type": "markdown",
   "id": "eb19963c",
   "metadata": {},
   "source": [
    "# Petal Width\n"
   ]
  },
  {
   "cell_type": "code",
   "execution_count": null,
   "id": "7342e3b9",
   "metadata": {},
   "outputs": [],
   "source": [
    "fig = px.box(iris, x = 'Species', y = 'PetalWidthCm', color = 'Species', color_discrete_sequence = ['#491D8B','#7D3AC1','#EB548C'], orientation= 'v')\n",
    "fig.show()"
   ]
  },
  {
   "cell_type": "code",
   "execution_count": null,
   "id": "c7b2f9b5",
   "metadata": {},
   "outputs": [],
   "source": [
    "fig = px.histogram(data_frame=iris, x='PetalWidthCm',color='Species',color_discrete_sequence=['#491D8B','#7D3AC1','#EB548C'],nbins=30)\n",
    "fig.show()"
   ]
  },
  {
   "cell_type": "markdown",
   "id": "5a9e37f6",
   "metadata": {},
   "source": [
    "### From these plots we conclude that: \n",
    "\n",
    "* **Setosa has much smaller PetalWidth than the other 2 classes**\n",
    "\n",
    "* **This difference is less clear between Virginica and Versicolor**\n",
    "\n",
    "* **Overall this seems like an  PetalWidth interesting feature**"
   ]
  },
  {
   "cell_type": "code",
   "execution_count": null,
   "id": "901b512b",
   "metadata": {},
   "outputs": [],
   "source": [
    "fig = px.scatter(data_frame=iris, x='SepalLengthCm',y='SepalWidthCm'\n",
    "           ,color='Species',size='PetalLengthCm',template='seaborn',color_discrete_sequence=['#491D8B','#7D3AC1','#EB548C'],)\n",
    "\n",
    "fig.update_layout(width=800, height=600,\n",
    "                  xaxis=dict(color=\"#BF40BF\"),\n",
    "                 yaxis=dict(color=\"#BF40BF\"))\n",
    "fig.show()"
   ]
  },
  {
   "cell_type": "code",
   "execution_count": null,
   "id": "9fcda131",
   "metadata": {},
   "outputs": [],
   "source": [
    "fig = px.scatter(data_frame=iris, x='PetalLengthCm',y='PetalWidthCm'\n",
    "           ,color='Species',size='SepalLengthCm',template='seaborn',color_discrete_sequence=['#491D8B','#7D3AC1','#EB548C'],)\n",
    "\n",
    "fig.update_layout(width=800, height=600,\n",
    "                  xaxis=dict(color=\"#BF40BF\"),\n",
    "                 yaxis=dict(color=\"#BF40BF\"))\n",
    "fig.show()"
   ]
  },
  {
   "cell_type": "markdown",
   "id": "774f7956",
   "metadata": {},
   "source": [
    "# KMeans\n",
    "## Using the elbow method to find the optimal number of clusters for k-means clustering"
   ]
  },
  {
   "cell_type": "code",
   "execution_count": null,
   "id": "a7d7f305",
   "metadata": {},
   "outputs": [],
   "source": [
    "from sklearn.cluster import KMeans"
   ]
  },
  {
   "cell_type": "code",
   "execution_count": null,
   "id": "41bacbb8",
   "metadata": {},
   "outputs": [],
   "source": [
    "sse = []\n",
    "for i in range(1,9):\n",
    "    kmeans = KMeans(n_clusters=i , max_iter=300)\n",
    "    kmeans.fit(X) \n",
    "    sse.append(kmeans.inertia_)\n",
    "\n",
    "fig = px.line(y=sse,template=\"seaborn\",title='Eblow Method')\n",
    "fig.update_layout(width=800, height=600,\n",
    "title_font_color=\"#BF40BF\", \n",
    "xaxis=dict(color=\"#BF40BF\",title=\"Clusters\"), \n",
    "yaxis=dict(color=\"#BF40BF\",title=\"SSE\"))"
   ]
  },
  {
   "cell_type": "code",
   "execution_count": null,
   "id": "48f6db71",
   "metadata": {},
   "outputs": [],
   "source": [
    "kmeans = KMeans(n_clusters = 3, init = 'k-means++', max_iter = 300, n_init = 10, random_state = 0)\n",
    "clusters = kmeans.fit_predict(X)"
   ]
  },
  {
   "cell_type": "markdown",
   "id": "8a64ae4b",
   "metadata": {},
   "source": [
    "# Evaluation"
   ]
  },
  {
   "cell_type": "code",
   "execution_count": null,
   "id": "1a555731",
   "metadata": {},
   "outputs": [],
   "source": [
    "fig = go.Figure()\n",
    "fig.add_trace(go.Scatter(\n",
    "    x=X[clusters == 0, 0], y=X[clusters == 0, 1],\n",
    "    mode='markers',marker_color='#DB4CB2',name='Iris-setosa'\n",
    "))\n",
    "\n",
    "fig.add_trace(go.Scatter(\n",
    "    x=X[clusters == 1, 0], y=X[clusters == 1, 1],\n",
    "    mode='markers',marker_color='#c9e9f6',name='Iris-versicolour'\n",
    "))\n",
    "\n",
    "fig.add_trace(go.Scatter(\n",
    "    x=X[clusters == 2, 0], y=X[clusters == 2, 1],\n",
    "    mode='markers',marker_color='#7D3AC1',name='Iris-virginica'\n",
    "))\n",
    "\n",
    "fig.add_trace(go.Scatter(\n",
    "    x=kmeans.cluster_centers_[:, 0], y= kmeans.cluster_centers_[:,1],\n",
    "    mode='markers',marker_color='#CAC9CD',marker_symbol=4,marker_size=13,name='Centroids'\n",
    "))\n",
    "fig.update_layout(template='plotly_dark',width=1000, height=500,title='Kmean Clustering Results')"
   ]
  },
  {
   "cell_type": "code",
   "execution_count": null,
   "id": "802d43af",
   "metadata": {},
   "outputs": [],
   "source": []
  }
 ],
 "metadata": {
  "kernelspec": {
   "display_name": "base",
   "language": "python",
   "name": "python3"
  },
  "language_info": {
   "codemirror_mode": {
    "name": "ipython",
    "version": 3
   },
   "file_extension": ".py",
   "mimetype": "text/x-python",
   "name": "python",
   "nbconvert_exporter": "python",
   "pygments_lexer": "ipython3",
   "version": "3.12.7"
  }
 },
 "nbformat": 4,
 "nbformat_minor": 5
}
